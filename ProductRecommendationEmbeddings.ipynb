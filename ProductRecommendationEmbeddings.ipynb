{
 "cells": [
  {
   "cell_type": "code",
   "execution_count": 9,
   "id": "af0650ca",
   "metadata": {},
   "outputs": [],
   "source": [
    "from dotenv import dotenv_values\n",
    "import pandas as pd\n",
    "import pickle\n",
    "from openai import OpenAI\n",
    "import tiktoken\n",
    "import csv\n",
    "import numpy as np\n",
    "import ast\n",
    "from sklearn.metrics.pairwise import cosine_similarity\n",
    "import matplotlib.pyplot as plt\n",
    "from sklearn.manifold import TSNE"
   ]
  },
  {
   "cell_type": "code",
   "execution_count": 10,
   "id": "11fbda21",
   "metadata": {},
   "outputs": [],
   "source": [
    "EMBEDDING_MODEL = \"text-embedding-3-small\""
   ]
  },
  {
   "cell_type": "code",
   "execution_count": 11,
   "id": "7be56a77",
   "metadata": {},
   "outputs": [],
   "source": [
    "config = dotenv_values(\".env\") \n",
    "OPENAI_EMBEDDINGS_KEY = config['API_KEY']"
   ]
  },
  {
   "cell_type": "code",
   "execution_count": 12,
   "id": "c58502b4",
   "metadata": {},
   "outputs": [],
   "source": [
    "# All Functions Definitions\n",
    "def combine_fields(row):\n",
    "    combined_fields = {\n",
    "        'Product Name': row['Product Name'],\n",
    "        'Description': row['Description'],\n",
    "        'Price': row['List Price']\n",
    "    }\n",
    "    return combined_fields\n",
    "\n",
    "# Function to combine specified columns into a CSV-formatted string\n",
    "def combine_to_csv(row):\n",
    "    return ','.join(['\"{}\"'.format(str(value).strip()) if col != 'List Price' else str(value).strip() for col, value in row[['Uniq Id','Product Name', 'Description', 'List Price']].items()])\n",
    "\n",
    "\n",
    "\n",
    "def generate_embeddings(batch_records,openai_client,model):\n",
    "    \"\"\"\n",
    "        Function to generate embedding of each row and store in \"embeddings\" column of df\n",
    "    \"\"\"\n",
    "    embeddings = None\n",
    "    response = openai_client.embeddings.create(\n",
    "        input=batch_records,\n",
    "        model=model\n",
    "    )\n",
    "    \n",
    "    embeddings = response.data\n",
    "    return batch_records,embeddings\n",
    "\n",
    "def format_embeddings(records,embeddings):\n",
    "    if len(records) != len(embeddings):\n",
    "        raise ValueError(\"Number of records does not match number of embeddings\")\n",
    "\n",
    "    refined_embeddings = []\n",
    "    merged_data = []\n",
    "    individual_record= []\n",
    "    for emb in embeddings:\n",
    "        refined_embeddings.append(emb.embedding)    \n",
    "\n",
    "    i = 0\n",
    "    for r in records:\n",
    "        row = list(csv.reader([r]))\n",
    "        split_row = row[0]\n",
    "        individual_record.append(split_row[0])\n",
    "        individual_record.append(split_row[1])\n",
    "        individual_record.append(split_row[2])\n",
    "        individual_record.append(split_row[3])\n",
    "        individual_record.append(str(refined_embeddings[i]))\n",
    "        merged_data.append(individual_record)\n",
    "        individual_record =[]\n",
    "        i+=1\n",
    "    return merged_data\n",
    "\n",
    "\n",
    "def num_tokens_from_string(string):\n",
    "    encoding = tiktoken.encoding_for_model(\"text-embedding-3-small\")\n",
    "    num_tokens = len(encoding.encode(string))\n",
    "    return num_tokens\n",
    "\n",
    "def create_batch_records(df,max_tokens=8191):\n",
    "    \"\"\"\n",
    "    This function will iterate the df's COMBINED cloumn.\n",
    "    each record will be passed to \"num_tokens_from_string\" function\n",
    "    to calculate total tokens by each record\n",
    "    \"\"\"\n",
    "    batch = []\n",
    "    batches = []\n",
    "    remaining_token = max_tokens\n",
    "    for index, row in df.iterrows():\n",
    "        text = row['Combined_CSV'].lower().strip()\n",
    "        token_count = num_tokens_from_string(text)\n",
    "        batch.append(text)\n",
    "        remaining_token = remaining_token - token_count\n",
    "        if token_count >=remaining_token:\n",
    "            batches.append(batch)            \n",
    "            batch = []\n",
    "            remaining_token = max_tokens\n",
    "    return batches,len(batches)\n",
    "\n",
    "\n",
    "def generate_single_embedding(text,openai_client,model):\n",
    "    \"\"\"\n",
    "        Function to generate embedding from a given piece of text\n",
    "    \"\"\"\n",
    "    embeddings = None\n",
    "    response = openai_client.embeddings.create(\n",
    "        input=text,\n",
    "        model=model\n",
    "    )\n",
    "    \n",
    "    embeddings = response.data[0].embedding\n",
    "    return embeddings\n",
    "\n",
    "\n",
    "def load_embeddings_from_csv(file_path):\n",
    "    df = pd.read_csv(file_path)\n",
    "    embeddings = df['Embedding'].apply(ast.literal_eval)\n",
    "    return np.array(embeddings.tolist())\n",
    "\n",
    "# Function to compute similarity between text and embeddings\n",
    "def compute_similarity(query_embedding, embeddings):\n",
    "    similarities = cosine_similarity(query_embedding, embeddings)\n",
    "    return similarities[0]\n",
    "\n",
    "# Function to get top 5 similar records\n",
    "def top_5_similar_records(similarities, df_records,input_title, n=5):\n",
    "    similar_records = []\n",
    "\n",
    "    \n",
    "    input_title = input_title.lower()\n",
    "    top_indices = similarities.argsort()[-(n+1):][::-1]  # Include an extra item to account for input title\n",
    "    similar_titles = df_records.iloc[top_indices]['Product Name'].str.lower().tolist()\n",
    "    similar_titles_ids = df_records.iloc[top_indices]['Uniq Id'].tolist()\n",
    "\n",
    "    \n",
    "    for idx in top_indices:\n",
    "        if df_records.iloc[idx]['Product Name'].lower() != input_title:\n",
    "            title = df_records.iloc[idx]['Product Name']\n",
    "            ids = df_records.iloc[idx]['Uniq Id']\n",
    "            similarity = similarities[idx]\n",
    "            similar_records.append((title, ids, similarity))\n",
    "\n",
    "#     input_index = similar_titles.index(input_title)\n",
    "#     similar_titles.pop(input_index)  # Remove the input title from the list of similar titles\n",
    "#     similar_similarities = similarities[top_indices][1:]  # Exclude the similarity score of the input title\n",
    "#     similar_records = [(title,ids, similarity) for title,ids, similarity in zip(similar_titles,similar_titles_ids, similar_similarities)]\n",
    "    return similar_records\n",
    "\n",
    "def plot_similarity(input_embedding, embeddings):\n",
    "    # Compute cosine similarity between input embedding and all other embeddings\n",
    "    similarities = cosine_similarity([input_embedding], embeddings)[0]\n",
    "    # Plot the cosine similarity scores\n",
    "    plt.scatter(np.arange(len(embeddings)), similarities, marker='o', linestyle='-')\n",
    "    plt.xlabel('Embedding Index')\n",
    "    plt.ylabel('Cosine Similarity')\n",
    "    plt.title('Cosine Similarity of Input Query vs. Other Embeddings')\n",
    "    plt.show()\n",
    "\n",
    "def plot_embeddings(input_embedding, embeddings):\n",
    "    # Convert embeddings to numpy array\n",
    "    embeddings = np.array(embeddings)\n",
    "\n",
    "    # Concatenate input embedding with all other embeddings\n",
    "    all_embeddings = np.vstack([input_embedding, embeddings])\n",
    "\n",
    "    # Use t-SNE to reduce dimensionality for visualization\n",
    "    tsne = TSNE(n_components=2, random_state=42)\n",
    "    embedded_embeddings = tsne.fit_transform(all_embeddings)\n",
    "\n",
    "    # Extract coordinates for input embedding and all other embeddings\n",
    "    input_embedding_coords = embedded_embeddings[0]\n",
    "    other_embeddings_coords = embedded_embeddings[1:]\n",
    "\n",
    "    # Plot scatter plot\n",
    "    plt.figure(figsize=(8, 6))\n",
    "    plt.scatter(input_embedding_coords[0], input_embedding_coords[1], color='red', label='Input Query Embeddings')\n",
    "    plt.scatter(other_embeddings_coords[:, 0], other_embeddings_coords[:, 1], color='blue', label='Existing Embeddings')\n",
    "    plt.xlabel('Dimension 1')\n",
    "    plt.ylabel('Dimension 2')\n",
    "    plt.title('Visualization of Input Query and Existing Embeddings')\n",
    "    plt.legend()\n",
    "    plt.grid(True)\n",
    "    plt.show()\n",
    "        "
   ]
  },
  {
   "cell_type": "markdown",
   "id": "96dd041b",
   "metadata": {},
   "source": [
    "## Loading Data CSV File and Filtering Records"
   ]
  },
  {
   "cell_type": "code",
   "execution_count": 13,
   "id": "97227564",
   "metadata": {},
   "outputs": [],
   "source": [
    "csv_file = 'walmart.csv'\n",
    "text_columns = ['Product Url', 'Product Name', 'Description','List Price', 'Brand']\n",
    "openai_api_key = 'your_openai_api_key'\n",
    "\n",
    "df = pd.read_csv(csv_file)\n",
    "missing_values = df['Category'].isna().any()\n",
    "if missing_values:\n",
    "    df['Category'].fillna('', inplace=True)\n",
    "\n",
    "# Filter the DataFrame to include only records where 'Category' contains 'Foods'\n",
    "df = df[df['Category'].str.contains('Foods', case=False)]\n",
    "\n",
    "columns_to_remove = ['Crawl Timestamp', 'Item Number','Gtin','Package Size','Category','Postal Code','Available','Sale Price','Brand']\n",
    "# Drop the specified columns\n",
    "df.drop(columns=columns_to_remove, inplace=True)\n",
    "df['Combined_CSV'] = df.apply(combine_to_csv, axis=1)\n",
    "small_df = df.tail(500)"
   ]
  },
  {
   "cell_type": "markdown",
   "id": "158c2034",
   "metadata": {},
   "source": [
    "## Initiate OpenAI Client"
   ]
  },
  {
   "cell_type": "code",
   "execution_count": 14,
   "id": "600ebfd3",
   "metadata": {},
   "outputs": [],
   "source": [
    "client = OpenAI(api_key=OPENAI_EMBEDDINGS_KEY)"
   ]
  },
  {
   "cell_type": "markdown",
   "id": "9480c0aa",
   "metadata": {},
   "source": [
    "## Displaying records to be embedded"
   ]
  },
  {
   "cell_type": "code",
   "execution_count": 15,
   "id": "7a1811c2",
   "metadata": {},
   "outputs": [
    {
     "data": {
      "text/html": [
       "<div>\n",
       "<style scoped>\n",
       "    .dataframe tbody tr th:only-of-type {\n",
       "        vertical-align: middle;\n",
       "    }\n",
       "\n",
       "    .dataframe tbody tr th {\n",
       "        vertical-align: top;\n",
       "    }\n",
       "\n",
       "    .dataframe thead th {\n",
       "        text-align: right;\n",
       "    }\n",
       "</style>\n",
       "<table border=\"1\" class=\"dataframe\">\n",
       "  <thead>\n",
       "    <tr style=\"text-align: right;\">\n",
       "      <th></th>\n",
       "      <th>Uniq Id</th>\n",
       "      <th>Product Url</th>\n",
       "      <th>Product Name</th>\n",
       "      <th>Description</th>\n",
       "      <th>List Price</th>\n",
       "      <th>Combined_CSV</th>\n",
       "    </tr>\n",
       "  </thead>\n",
       "  <tbody>\n",
       "    <tr>\n",
       "      <th>23</th>\n",
       "      <td>21fee4394b9cc53bb6ddbe4235506a5c</td>\n",
       "      <td>https://www.walmart.com/ip/Health-Warrior-Chia...</td>\n",
       "      <td>Health Warrior Chia Bar, Acai Berry, 25 G, Pac...</td>\n",
       "      <td>We aim to show you accurate product informati...</td>\n",
       "      <td>23.21</td>\n",
       "      <td>\"21fee4394b9cc53bb6ddbe4235506a5c\",\"Health War...</td>\n",
       "    </tr>\n",
       "    <tr>\n",
       "      <th>192</th>\n",
       "      <td>4b2bac516f65b3130fbf8eb8de481df0</td>\n",
       "      <td>https://www.walmart.com/ip/Lily-of-the-Desert-...</td>\n",
       "      <td>Lily of the Desert, Aloe Herbal Stomach Formul...</td>\n",
       "      <td>We aim to show you accurate product informati...</td>\n",
       "      <td>13.24</td>\n",
       "      <td>\"4b2bac516f65b3130fbf8eb8de481df0\",\"Lily of th...</td>\n",
       "    </tr>\n",
       "    <tr>\n",
       "      <th>320</th>\n",
       "      <td>b9c2f0b7b91b7e4527c2f1bf00808302</td>\n",
       "      <td>https://www.walmart.com/ip/La-Victoria-Thick-n...</td>\n",
       "      <td>La Victoria Thickn Chunky Medium Salsa, 16 oz ...</td>\n",
       "      <td>We aim to show you accurate product informati...</td>\n",
       "      <td>40.66</td>\n",
       "      <td>\"b9c2f0b7b91b7e4527c2f1bf00808302\",\"La Victori...</td>\n",
       "    </tr>\n",
       "    <tr>\n",
       "      <th>403</th>\n",
       "      <td>72bfc2afad2695d29d9cb0ffb90e74fa</td>\n",
       "      <td>https://www.walmart.com/ip/Purely-Inspired-Org...</td>\n",
       "      <td>Purely Inspired Organic Plant Protein Powder, ...</td>\n",
       "      <td>We aim to show you accurate product informati...</td>\n",
       "      <td>19.97</td>\n",
       "      <td>\"72bfc2afad2695d29d9cb0ffb90e74fa\",\"Purely Ins...</td>\n",
       "    </tr>\n",
       "    <tr>\n",
       "      <th>637</th>\n",
       "      <td>c8dba9f4ddc7b2f1b479c4ca90ef7281</td>\n",
       "      <td>https://www.walmart.com/ip/One-Degree-Organic-...</td>\n",
       "      <td>One Degree Organic Foods Granola, Sprouted Org...</td>\n",
       "      <td>We aim to show you accurate product informati...</td>\n",
       "      <td>44.61</td>\n",
       "      <td>\"c8dba9f4ddc7b2f1b479c4ca90ef7281\",\"One Degree...</td>\n",
       "    </tr>\n",
       "    <tr>\n",
       "      <th>...</th>\n",
       "      <td>...</td>\n",
       "      <td>...</td>\n",
       "      <td>...</td>\n",
       "      <td>...</td>\n",
       "      <td>...</td>\n",
       "      <td>...</td>\n",
       "    </tr>\n",
       "    <tr>\n",
       "      <th>29585</th>\n",
       "      <td>f15347e1b6b516539135e131da4049d9</td>\n",
       "      <td>https://www.walmart.com/ip/Salsa-Og2-Medium/92...</td>\n",
       "      <td>Salsa,Og2,Medium</td>\n",
       "      <td>We aim to show you accurate product informati...</td>\n",
       "      <td>64.69</td>\n",
       "      <td>\"f15347e1b6b516539135e131da4049d9\",\"Salsa,Og2,...</td>\n",
       "    </tr>\n",
       "    <tr>\n",
       "      <th>29657</th>\n",
       "      <td>e4413719be22272a8b35f8dc71339e70</td>\n",
       "      <td>https://www.walmart.com/ip/Doctor-s-Select-Wei...</td>\n",
       "      <td>Doctors Select Weight Loss 4, Tablets 90 ea (P...</td>\n",
       "      <td>We aim to show you accurate product informati...</td>\n",
       "      <td>30.23</td>\n",
       "      <td>\"e4413719be22272a8b35f8dc71339e70\",\"Doctors Se...</td>\n",
       "    </tr>\n",
       "    <tr>\n",
       "      <th>29723</th>\n",
       "      <td>6555fdff291e804bd74bd17de09dd409</td>\n",
       "      <td>https://www.walmart.com/ip/New-England-Natural...</td>\n",
       "      <td>New England Naturals Granola - Organic - Straw...</td>\n",
       "      <td>We aim to show you accurate product informati...</td>\n",
       "      <td>39.12</td>\n",
       "      <td>\"6555fdff291e804bd74bd17de09dd409\",\"New Englan...</td>\n",
       "    </tr>\n",
       "    <tr>\n",
       "      <th>29792</th>\n",
       "      <td>08e6e1897b426f757265e9366ff95302</td>\n",
       "      <td>https://www.walmart.com/ip/Suja-Energy-Shot-wi...</td>\n",
       "      <td>Suja Energy Shot with Coffeeberry and Reishi, ...</td>\n",
       "      <td>We aim to show you accurate product informati...</td>\n",
       "      <td>44.85</td>\n",
       "      <td>\"08e6e1897b426f757265e9366ff95302\",\"Suja Energ...</td>\n",
       "    </tr>\n",
       "    <tr>\n",
       "      <th>29995</th>\n",
       "      <td>a471d7da9a2cb49dff316be704d2a0ae</td>\n",
       "      <td>https://www.walmart.com/ip/McCain-Smiles/51726947</td>\n",
       "      <td>McCain Smiles</td>\n",
       "      <td>We aim to show you accurate product informati...</td>\n",
       "      <td>0.00</td>\n",
       "      <td>\"a471d7da9a2cb49dff316be704d2a0ae\",\"McCain Smi...</td>\n",
       "    </tr>\n",
       "  </tbody>\n",
       "</table>\n",
       "<p>288 rows × 6 columns</p>\n",
       "</div>"
      ],
      "text/plain": [
       "                                Uniq Id  \\\n",
       "23     21fee4394b9cc53bb6ddbe4235506a5c   \n",
       "192    4b2bac516f65b3130fbf8eb8de481df0   \n",
       "320    b9c2f0b7b91b7e4527c2f1bf00808302   \n",
       "403    72bfc2afad2695d29d9cb0ffb90e74fa   \n",
       "637    c8dba9f4ddc7b2f1b479c4ca90ef7281   \n",
       "...                                 ...   \n",
       "29585  f15347e1b6b516539135e131da4049d9   \n",
       "29657  e4413719be22272a8b35f8dc71339e70   \n",
       "29723  6555fdff291e804bd74bd17de09dd409   \n",
       "29792  08e6e1897b426f757265e9366ff95302   \n",
       "29995  a471d7da9a2cb49dff316be704d2a0ae   \n",
       "\n",
       "                                             Product Url  \\\n",
       "23     https://www.walmart.com/ip/Health-Warrior-Chia...   \n",
       "192    https://www.walmart.com/ip/Lily-of-the-Desert-...   \n",
       "320    https://www.walmart.com/ip/La-Victoria-Thick-n...   \n",
       "403    https://www.walmart.com/ip/Purely-Inspired-Org...   \n",
       "637    https://www.walmart.com/ip/One-Degree-Organic-...   \n",
       "...                                                  ...   \n",
       "29585  https://www.walmart.com/ip/Salsa-Og2-Medium/92...   \n",
       "29657  https://www.walmart.com/ip/Doctor-s-Select-Wei...   \n",
       "29723  https://www.walmart.com/ip/New-England-Natural...   \n",
       "29792  https://www.walmart.com/ip/Suja-Energy-Shot-wi...   \n",
       "29995  https://www.walmart.com/ip/McCain-Smiles/51726947   \n",
       "\n",
       "                                            Product Name  \\\n",
       "23     Health Warrior Chia Bar, Acai Berry, 25 G, Pac...   \n",
       "192    Lily of the Desert, Aloe Herbal Stomach Formul...   \n",
       "320    La Victoria Thickn Chunky Medium Salsa, 16 oz ...   \n",
       "403    Purely Inspired Organic Plant Protein Powder, ...   \n",
       "637    One Degree Organic Foods Granola, Sprouted Org...   \n",
       "...                                                  ...   \n",
       "29585                                   Salsa,Og2,Medium   \n",
       "29657  Doctors Select Weight Loss 4, Tablets 90 ea (P...   \n",
       "29723  New England Naturals Granola - Organic - Straw...   \n",
       "29792  Suja Energy Shot with Coffeeberry and Reishi, ...   \n",
       "29995                                      McCain Smiles   \n",
       "\n",
       "                                             Description  List Price  \\\n",
       "23      We aim to show you accurate product informati...       23.21   \n",
       "192     We aim to show you accurate product informati...       13.24   \n",
       "320     We aim to show you accurate product informati...       40.66   \n",
       "403     We aim to show you accurate product informati...       19.97   \n",
       "637     We aim to show you accurate product informati...       44.61   \n",
       "...                                                  ...         ...   \n",
       "29585   We aim to show you accurate product informati...       64.69   \n",
       "29657   We aim to show you accurate product informati...       30.23   \n",
       "29723   We aim to show you accurate product informati...       39.12   \n",
       "29792   We aim to show you accurate product informati...       44.85   \n",
       "29995   We aim to show you accurate product informati...        0.00   \n",
       "\n",
       "                                            Combined_CSV  \n",
       "23     \"21fee4394b9cc53bb6ddbe4235506a5c\",\"Health War...  \n",
       "192    \"4b2bac516f65b3130fbf8eb8de481df0\",\"Lily of th...  \n",
       "320    \"b9c2f0b7b91b7e4527c2f1bf00808302\",\"La Victori...  \n",
       "403    \"72bfc2afad2695d29d9cb0ffb90e74fa\",\"Purely Ins...  \n",
       "637    \"c8dba9f4ddc7b2f1b479c4ca90ef7281\",\"One Degree...  \n",
       "...                                                  ...  \n",
       "29585  \"f15347e1b6b516539135e131da4049d9\",\"Salsa,Og2,...  \n",
       "29657  \"e4413719be22272a8b35f8dc71339e70\",\"Doctors Se...  \n",
       "29723  \"6555fdff291e804bd74bd17de09dd409\",\"New Englan...  \n",
       "29792  \"08e6e1897b426f757265e9366ff95302\",\"Suja Energ...  \n",
       "29995  \"a471d7da9a2cb49dff316be704d2a0ae\",\"McCain Smi...  \n",
       "\n",
       "[288 rows x 6 columns]"
      ]
     },
     "execution_count": 15,
     "metadata": {},
     "output_type": "execute_result"
    }
   ],
   "source": [
    "small_df"
   ]
  },
  {
   "cell_type": "markdown",
   "id": "fbf7db74",
   "metadata": {},
   "source": [
    "## Generate Batch Records and Embeddings"
   ]
  },
  {
   "cell_type": "markdown",
   "id": "57cf7356",
   "metadata": {},
   "source": [
    "The purpose of this step is to get embeddings.\n",
    "We will first see whethe the embedding csv and data exist, if yes then use it\n",
    "otherwise create fresh embeddings."
   ]
  },
  {
   "cell_type": "code",
   "execution_count": 16,
   "id": "ae8021f8",
   "metadata": {},
   "outputs": [
    {
     "name": "stdout",
     "output_type": "stream",
     "text": [
      "Embedding File Found\n"
     ]
    }
   ],
   "source": [
    "embedding_found = True\n",
    "formatted_embeddings = []\n",
    "all_embeddings = []\n",
    "merged_embeddings = []\n",
    "x = 0\n",
    "\n",
    "# load the cache if it exists, and save a copy to disk\n",
    "try:\n",
    "    merged_embeddings = pd.read_csv(\"allembeds.csv\")\n",
    "    print(\"Embedding File Found\")\n",
    "except FileNotFoundError:\n",
    "    print(\"Embedding File Not Found...\")\n",
    "    embedding_found = False\n",
    "\n",
    "if not embedding_found:\n",
    "    print(\"Creating Batches and Embeddings\")\n",
    "    batches,count = create_batch_records(small_df)\n",
    "    for batch in batches:\n",
    "        records,embeddings = generate_embeddings(batch,client,EMBEDDING_MODEL)\n",
    "        formatted_embeddings = format_embeddings(records,embeddings)\n",
    "        all_embeddings.append(formatted_embeddings)\n",
    "        x+=1\n",
    "        if x > 2: # No specific reason, did not want to consume my OpenAI account\n",
    "            break \n"
   ]
  },
  {
   "cell_type": "markdown",
   "id": "95664cdb",
   "metadata": {},
   "source": [
    "## Merging embeddings into a flat array"
   ]
  },
  {
   "cell_type": "code",
   "execution_count": 17,
   "id": "16cfdede",
   "metadata": {},
   "outputs": [],
   "source": [
    "for emb in all_embeddings:\n",
    "    for rec in emb:\n",
    "        merged_embeddings.append(rec)"
   ]
  },
  {
   "cell_type": "markdown",
   "id": "01a67ad3",
   "metadata": {},
   "source": [
    "## Read CSV into Pandas"
   ]
  },
  {
   "cell_type": "code",
   "execution_count": 18,
   "id": "27f5406a",
   "metadata": {},
   "outputs": [],
   "source": [
    "if not embedding_found:\n",
    "    df = pd.DataFrame(merged_embeddings, columns =['UniqueID','Title','Desc','Price','Embedding'])\n",
    "    df['Price'] = pd.to_numeric(df['Price'], errors='coerce').fillna(0.0)\n",
    "    df.to_csv('allembeds.csv', index=False)\n"
   ]
  },
  {
   "cell_type": "code",
   "execution_count": 19,
   "id": "56649f7e",
   "metadata": {},
   "outputs": [],
   "source": [
    "df_combined = pd.read_csv('allembeds.csv')"
   ]
  },
  {
   "cell_type": "code",
   "execution_count": 20,
   "id": "8dd3a455",
   "metadata": {},
   "outputs": [],
   "source": [
    "extracted_embeddings = load_embeddings_from_csv('allembeds.csv')"
   ]
  },
  {
   "cell_type": "code",
   "execution_count": 21,
   "id": "751f9a15",
   "metadata": {},
   "outputs": [
    {
     "name": "stdout",
     "output_type": "stream",
     "text": [
      "Enter product titleHealth Warrior Chia Bar, Acai Berry, 25 G, Pac\n"
     ]
    },
    {
     "data": {
      "text/plain": [
       "'Health Warrior Chia Bar, Acai Berry, 25 G, Pac'"
      ]
     },
     "execution_count": 21,
     "metadata": {},
     "output_type": "execute_result"
    }
   ],
   "source": [
    "query = input(\"Enter product title\")\n",
    "query"
   ]
  },
  {
   "cell_type": "code",
   "execution_count": 22,
   "id": "63acbd8b",
   "metadata": {},
   "outputs": [],
   "source": [
    "emb_query = generate_single_embedding(query,client,EMBEDDING_MODEL)"
   ]
  },
  {
   "cell_type": "markdown",
   "id": "0adc8f2c",
   "metadata": {},
   "source": [
    "## Calculate Cosine Simlarity "
   ]
  },
  {
   "cell_type": "code",
   "execution_count": 23,
   "id": "97dbb104",
   "metadata": {},
   "outputs": [],
   "source": [
    "text_embedding_array = np.array(emb_query)\n",
    "text_embedding_reshaped = text_embedding_array.reshape(1, -1)\n",
    "similarities = compute_similarity(text_embedding_reshaped, extracted_embeddings)"
   ]
  },
  {
   "cell_type": "code",
   "execution_count": 24,
   "id": "49c3586f",
   "metadata": {},
   "outputs": [
    {
     "data": {
      "image/png": "[encoded data removed]",
      "text/plain": [
       "<Figure size 640x480 with 1 Axes>"
      ]
     },
     "metadata": {},
     "output_type": "display_data"
    }
   ],
   "source": [
    " plot_similarity(emb_query,extracted_embeddings)"
   ]
  },
  {
   "cell_type": "code",
   "execution_count": 25,
   "id": "aeab16b9",
   "metadata": {},
   "outputs": [
    {
     "data": {
      "image/png": "[encoded data removed]",
      "text/plain": [
       "<Figure size 800x600 with 1 Axes>"
      ]
     },
     "metadata": {},
     "output_type": "display_data"
    }
   ],
   "source": [
    "plot_embeddings(emb_query,extracted_embeddings)"
   ]
  },
  {
   "cell_type": "markdown",
   "id": "5b588342",
   "metadata": {},
   "source": [
    "## Fetch Top 5 similar records"
   ]
  },
  {
   "cell_type": "code",
   "execution_count": 26,
   "id": "f88ea6a1",
   "metadata": {},
   "outputs": [
    {
     "data": {
      "text/plain": [
       "[('Health Warrior Chia Bar, Acai Berry, 25 G, Pack Of 15',\n",
       "  '21fee4394b9cc53bb6ddbe4235506a5c',\n",
       "  0.7865167078326643),\n",
       " ('Rise Bar Gluten Free Protein Bars, Chocolatey Coconut, 2.1 Oz, 12 Ct',\n",
       "  '076ce5498d181a517bdc2863142402c0',\n",
       "  0.46839342705774173),\n",
       " ('Nutrisystem Chocolate Chip Baked Bars Pack, 5 Count - Ready to Eat Meal Replacement Breakfast Bars to Support Healthy Weight Loss',\n",
       "  '202ab4c56b418153657e2b53b30ef9b3',\n",
       "  0.4606601758761113),\n",
       " ('Pure Organic Pineapple Passion Fruit Bars 0.63 oz 12 ct',\n",
       "  '269fc6604182f3c027e25280fdffb95b',\n",
       "  0.4472399354429031),\n",
       " ('Go Raw 100% Organic Spirulina Super Chips, 3 oz, (Pack of 12)',\n",
       "  '08b116626df671a2ad3fb1b1de9d179c',\n",
       "  0.4471157111214574),\n",
       " ('Natures Way Barley Grass Bulk Powder Dietary Supplement, 9 oz',\n",
       "  '18fc594859d86f440890e87bafa95ef5',\n",
       "  0.43024825369566544)]"
      ]
     },
     "execution_count": 26,
     "metadata": {},
     "output_type": "execute_result"
    }
   ],
   "source": [
    "top5 = top_5_similar_records(similarities,small_df,query)\n",
    "top5"
   ]
  }
 ],
 "metadata": {
  "kernelspec": {
   "display_name": "Python 3 (ipykernel)",
   "language": "python",
   "name": "python3"
  },
  "language_info": {
   "codemirror_mode": {
    "name": "ipython",
    "version": 3
   },
   "file_extension": ".py",
   "mimetype": "text/x-python",
   "name": "python",
   "nbconvert_exporter": "python",
   "pygments_lexer": "ipython3",
   "version": "3.9.4"
  }
 },
 "nbformat": 4,
 "nbformat_minor": 5
}
